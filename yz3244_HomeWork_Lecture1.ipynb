{
 "cells": [
  {
   "cell_type": "markdown",
   "metadata": {
    "ExecuteTime": {
     "end_time": "2018-01-09T15:16:27.144141Z",
     "start_time": "2018-01-09T15:16:27.139141Z"
    }
   },
   "source": [
    "# Homework Lecture 1"
   ]
  },
  {
   "cell_type": "markdown",
   "metadata": {
    "ExecuteTime": {
     "end_time": "2018-01-09T15:16:42.223141Z",
     "start_time": "2018-01-09T15:16:42.218141Z"
    }
   },
   "source": [
    "## Preliminaries"
   ]
  },
  {
   "cell_type": "markdown",
   "metadata": {
    "ExecuteTime": {
     "end_time": "2018-01-09T15:16:58.417141Z",
     "start_time": "2018-01-09T15:16:58.414141Z"
    }
   },
   "source": [
    "### Imports"
   ]
  },
  {
   "cell_type": "code",
   "execution_count": 1,
   "metadata": {
    "ExecuteTime": {
     "end_time": "2018-01-17T16:09:33.797176Z",
     "start_time": "2018-01-17T16:09:12.299456Z"
    },
    "collapsed": true
   },
   "outputs": [],
   "source": [
    "import os\n",
    "\n",
    "import numpy as np\n",
    "import pandas as pd\n",
    "import matplotlib.pyplot as plt\n",
    "\n",
    "%matplotlib inline\n",
    "\n",
    "import sys \n",
    "sys.path.append(\"../..\")\n",
    "import E4525_ML.mnist as mnist"
   ]
  },
  {
   "cell_type": "markdown",
   "metadata": {
    "ExecuteTime": {
     "end_time": "2018-01-09T15:18:16.996141Z",
     "start_time": "2018-01-09T15:18:16.993141Z"
    }
   },
   "source": [
    "### Data Directories "
   ]
  },
  {
   "cell_type": "markdown",
   "metadata": {},
   "source": [
    "Create a directory with the path below"
   ]
  },
  {
   "cell_type": "code",
   "execution_count": 2,
   "metadata": {
    "ExecuteTime": {
     "end_time": "2018-01-17T16:09:33.816326Z",
     "start_time": "2018-01-17T16:09:33.801275Z"
    },
    "collapsed": true
   },
   "outputs": [],
   "source": [
    "raw_data_dir=\"../../raw/MNIST\"\n",
    "data_dir=\"../../data/introduction\""
   ]
  },
  {
   "cell_type": "markdown",
   "metadata": {},
   "source": [
    "<div class=\"alert alert-block alert-info\"> Problem 0 </div>\n",
    "Download the file `data.csv` and save it fo the directory `data_dir`"
   ]
  },
  {
   "cell_type": "markdown",
   "metadata": {
    "ExecuteTime": {
     "end_time": "2018-01-09T15:21:30.644141Z",
     "start_time": "2018-01-09T15:21:30.639141Z"
    }
   },
   "source": [
    "## Numpy Exercises"
   ]
  },
  {
   "cell_type": "markdown",
   "metadata": {
    "ExecuteTime": {
     "end_time": "2018-01-09T16:23:41.930141Z",
     "start_time": "2018-01-09T16:23:41.927141Z"
    }
   },
   "source": [
    "### Read and Inspect the Data "
   ]
  },
  {
   "cell_type": "markdown",
   "metadata": {},
   "source": [
    "<div class=\"alert alert-block alert-info\"> Problem 1.1 </div>\n",
    "Read the contents of `data.csv` into a panda's dataframe"
   ]
  },
  {
   "cell_type": "code",
   "execution_count": 9,
   "metadata": {
    "collapsed": true
   },
   "outputs": [],
   "source": [
    "filename=\"data.csv\""
   ]
  },
  {
   "cell_type": "code",
   "execution_count": 10,
   "metadata": {
    "collapsed": true
   },
   "outputs": [],
   "source": [
    "data=pd.read_csv(data_dir+\"/\"+filename)"
   ]
  },
  {
   "cell_type": "markdown",
   "metadata": {},
   "source": [
    "<div class=\"alert alert-block alert-info\"> Problem 1.2 </div>\n",
    "What are the name of the columns?"
   ]
  },
  {
   "cell_type": "code",
   "execution_count": 15,
   "metadata": {
    "ExecuteTime": {
     "end_time": "2018-01-15T02:43:44.223312Z",
     "start_time": "2018-01-15T02:43:44.198245Z"
    }
   },
   "outputs": [
    {
     "data": {
      "text/plain": [
       "array(['X', 'Y'], dtype=object)"
      ]
     },
     "execution_count": 15,
     "metadata": {},
     "output_type": "execute_result"
    }
   ],
   "source": [
    "data.columns.values "
   ]
  },
  {
   "cell_type": "markdown",
   "metadata": {
    "ExecuteTime": {
     "end_time": "2018-01-09T16:25:39.747141Z",
     "start_time": "2018-01-09T16:25:39.722141Z"
    }
   },
   "source": [
    "<div class=\"alert alert-block alert-info\"> Problem 1.3 </div>\n",
    "How many rows are there?"
   ]
  },
  {
   "cell_type": "code",
   "execution_count": 17,
   "metadata": {
    "ExecuteTime": {
     "end_time": "2018-01-15T02:43:44.242362Z",
     "start_time": "2018-01-15T02:43:44.225318Z"
    }
   },
   "outputs": [
    {
     "name": "stdout",
     "output_type": "stream",
     "text": [
      "The number of rows is  1000\n"
     ]
    }
   ],
   "source": [
    "row, col = data.shape\n",
    "print('The number of rows is ', row)"
   ]
  },
  {
   "cell_type": "markdown",
   "metadata": {},
   "source": [
    "<div class=\"alert alert-block alert-info\"> Problem 1.4 </div>\n",
    "List the unique values of column \"X\", and of column \"Y\""
   ]
  },
  {
   "cell_type": "code",
   "execution_count": 15,
   "metadata": {
    "ExecuteTime": {
     "end_time": "2018-01-15T02:43:44.265424Z",
     "start_time": "2018-01-15T02:43:44.244369Z"
    }
   },
   "outputs": [
    {
     "data": {
      "text/plain": [
       "array(['A', 'B', 'C', 'D'], dtype=object)"
      ]
     },
     "execution_count": 15,
     "metadata": {},
     "output_type": "execute_result"
    }
   ],
   "source": [
    "data['X'].unique()"
   ]
  },
  {
   "cell_type": "code",
   "execution_count": 16,
   "metadata": {},
   "outputs": [
    {
     "data": {
      "text/plain": [
       "array(['a', 'c', 'd', 'b', 'e'], dtype=object)"
      ]
     },
     "execution_count": 16,
     "metadata": {},
     "output_type": "execute_result"
    }
   ],
   "source": [
    "data['Y'].unique()"
   ]
  },
  {
   "cell_type": "markdown",
   "metadata": {
    "ExecuteTime": {
     "end_time": "2018-01-09T16:27:20.953141Z",
     "start_time": "2018-01-09T16:27:20.944141Z"
    }
   },
   "source": [
    "<div class=\"alert alert-block alert-info\"> Problem 1.5 </div>\n",
    "Use [pandas.Series.value_counts](https://pandas.pydata.org/pandas-docs/stable/generated/pandas.Series.value_counts.html) function to get the counts of each possible value  of X and Y variables"
   ]
  },
  {
   "cell_type": "code",
   "execution_count": 278,
   "metadata": {},
   "outputs": [
    {
     "data": {
      "text/plain": [
       "A    383\n",
       "B    293\n",
       "C    279\n",
       "D     45\n",
       "Name: X, dtype: int64"
      ]
     },
     "execution_count": 278,
     "metadata": {},
     "output_type": "execute_result"
    }
   ],
   "source": [
    "pd.Series.value_counts(data[\"X\"])"
   ]
  },
  {
   "cell_type": "code",
   "execution_count": 279,
   "metadata": {},
   "outputs": [
    {
     "data": {
      "text/plain": [
       "c    349\n",
       "a    312\n",
       "b    148\n",
       "d    132\n",
       "e     59\n",
       "Name: Y, dtype: int64"
      ]
     },
     "execution_count": 279,
     "metadata": {},
     "output_type": "execute_result"
    }
   ],
   "source": [
    "pd.Series.value_counts(data[\"Y\"])"
   ]
  },
  {
   "cell_type": "code",
   "execution_count": 18,
   "metadata": {
    "ExecuteTime": {
     "end_time": "2018-01-15T02:43:44.465957Z",
     "start_time": "2018-01-15T02:43:44.267430Z"
    }
   },
   "outputs": [
    {
     "data": {
      "text/plain": [
       "A    383\n",
       "B    293\n",
       "C    279\n",
       "D     45\n",
       "Name: X, dtype: int64"
      ]
     },
     "execution_count": 18,
     "metadata": {},
     "output_type": "execute_result"
    }
   ],
   "source": [
    "data['X'].value_counts()"
   ]
  },
  {
   "cell_type": "code",
   "execution_count": 19,
   "metadata": {
    "ExecuteTime": {
     "end_time": "2018-01-15T02:43:44.600543Z",
     "start_time": "2018-01-15T02:43:44.468966Z"
    }
   },
   "outputs": [
    {
     "data": {
      "text/plain": [
       "c    349\n",
       "a    312\n",
       "b    148\n",
       "d    132\n",
       "e     59\n",
       "Name: Y, dtype: int64"
      ]
     },
     "execution_count": 19,
     "metadata": {},
     "output_type": "execute_result"
    }
   ],
   "source": [
    "data['Y'].value_counts()"
   ]
  },
  {
   "cell_type": "markdown",
   "metadata": {
    "ExecuteTime": {
     "end_time": "2018-01-09T16:29:30.641141Z",
     "start_time": "2018-01-09T16:29:30.635141Z"
    }
   },
   "source": [
    "### Basic Usage of Numpy"
   ]
  },
  {
   "cell_type": "markdown",
   "metadata": {},
   "source": [
    "<div class=\"alert alert-block alert-info\"> Problem 2.1 </div>\n",
    "\n",
    "Use panda's function [get_dummies](https://pandas.pydata.org/pandas-docs/stable/generated/pandas.get_dummies.html) to\n",
    "* create a variable named `data_ZX` with one row per row on the original data, and one-hot encoded `X` variable values as columns\n",
    "* create a varialbe named `data_ZY` with one row per row on the original data, and one-hot encoded `Y` variable values as columns"
   ]
  },
  {
   "cell_type": "code",
   "execution_count": 19,
   "metadata": {
    "ExecuteTime": {
     "end_time": "2018-01-15T02:43:44.608564Z",
     "start_time": "2018-01-15T02:43:44.602548Z"
    },
    "collapsed": true
   },
   "outputs": [],
   "source": [
    "data_ZX = pd.get_dummies(data['X'])"
   ]
  },
  {
   "cell_type": "code",
   "execution_count": 20,
   "metadata": {
    "ExecuteTime": {
     "end_time": "2018-01-15T02:43:44.638662Z",
     "start_time": "2018-01-15T02:43:44.613588Z"
    },
    "collapsed": true
   },
   "outputs": [],
   "source": [
    "data_ZY = pd.get_dummies(data['Y'])"
   ]
  },
  {
   "cell_type": "markdown",
   "metadata": {},
   "source": [
    "<div class=\"alert alert-block alert-info\"> Problem 2.2 </div>\n",
    "Using the dataframe function `as_matrix()`  create `numpy` arrays `ZX` and `ZY` with the occurrence data for `X` and `Y` variables"
   ]
  },
  {
   "cell_type": "code",
   "execution_count": 22,
   "metadata": {
    "ExecuteTime": {
     "end_time": "2018-01-15T02:43:44.672736Z",
     "start_time": "2018-01-15T02:43:44.645664Z"
    },
    "collapsed": true
   },
   "outputs": [],
   "source": [
    "ZX = data_ZX.as_matrix() "
   ]
  },
  {
   "cell_type": "code",
   "execution_count": 23,
   "metadata": {
    "ExecuteTime": {
     "end_time": "2018-01-15T02:43:44.691786Z",
     "start_time": "2018-01-15T02:43:44.674741Z"
    },
    "collapsed": true
   },
   "outputs": [],
   "source": [
    "ZY = data_ZY.as_matrix() "
   ]
  },
  {
   "cell_type": "markdown",
   "metadata": {},
   "source": [
    "<div class=\"alert alert-block alert-info\"> Problem 2.3 </div>\n",
    "Save the column names of `data_ZX` in a variable named `X_values`, create also `Y_values`"
   ]
  },
  {
   "cell_type": "code",
   "execution_count": 24,
   "metadata": {
    "ExecuteTime": {
     "end_time": "2018-01-15T02:43:44.715850Z",
     "start_time": "2018-01-15T02:43:44.693792Z"
    },
    "collapsed": true
   },
   "outputs": [],
   "source": [
    "X_values = data_ZX.columns.values"
   ]
  },
  {
   "cell_type": "code",
   "execution_count": 25,
   "metadata": {
    "ExecuteTime": {
     "end_time": "2018-01-15T02:43:44.739915Z",
     "start_time": "2018-01-15T02:43:44.719865Z"
    },
    "collapsed": true
   },
   "outputs": [],
   "source": [
    "Y_values = data_ZY.columns.values"
   ]
  },
  {
   "cell_type": "markdown",
   "metadata": {},
   "source": [
    "### Covariance calculation"
   ]
  },
  {
   "cell_type": "markdown",
   "metadata": {
    "ExecuteTime": {
     "end_time": "2018-01-09T17:01:14.184187Z",
     "start_time": "2018-01-09T17:01:14.176186Z"
    }
   },
   "source": [
    "From now on, work **only** with the variables `ZX`, and `ZY`, `X_values` and `Y_values`"
   ]
  },
  {
   "cell_type": "markdown",
   "metadata": {},
   "source": [
    "<div class=\"alert alert-block alert-info\"> Problem 3.1 </div>\n",
    "Show the shape of `ZX` and `ZY` variables"
   ]
  },
  {
   "cell_type": "code",
   "execution_count": 29,
   "metadata": {
    "ExecuteTime": {
     "end_time": "2018-01-15T02:43:44.760970Z",
     "start_time": "2018-01-15T02:43:44.741919Z"
    }
   },
   "outputs": [
    {
     "data": {
      "text/plain": [
       "(1000, 4)"
      ]
     },
     "execution_count": 29,
     "metadata": {},
     "output_type": "execute_result"
    }
   ],
   "source": [
    "ZX.shape"
   ]
  },
  {
   "cell_type": "code",
   "execution_count": 30,
   "metadata": {},
   "outputs": [
    {
     "data": {
      "text/plain": [
       "(1000, 5)"
      ]
     },
     "execution_count": 30,
     "metadata": {},
     "output_type": "execute_result"
    }
   ],
   "source": [
    "ZY.shape"
   ]
  },
  {
   "cell_type": "markdown",
   "metadata": {},
   "source": [
    "<div class=\"alert alert-block alert-info\"> Problem 3.2 </div>\n",
    "* using `ZX`  compute the number of occurrences of each possible value of the variable X\n",
    "* using `ZY`  compute the number of occurrences of each possible value of the variable Y\n",
    "\n",
    "for each posible value of 'X' print the value (a string), and how may times it occurs on the data (an integer).\n",
    "Do the same for 'Y'"
   ]
  },
  {
   "cell_type": "code",
   "execution_count": 280,
   "metadata": {},
   "outputs": [
    {
     "data": {
      "text/plain": [
       "383    A\n",
       "293    B\n",
       "279    C\n",
       "45     D\n",
       "dtype: object"
      ]
     },
     "execution_count": 280,
     "metadata": {},
     "output_type": "execute_result"
    }
   ],
   "source": [
    "pd.Series(X_values, np.sum(ZX,axis = 0))"
   ]
  },
  {
   "cell_type": "code",
   "execution_count": 34,
   "metadata": {},
   "outputs": [
    {
     "data": {
      "text/plain": [
       "array(['A', 'B', 'C', 'D'], dtype=object)"
      ]
     },
     "execution_count": 34,
     "metadata": {},
     "output_type": "execute_result"
    }
   ],
   "source": [
    "X_values"
   ]
  },
  {
   "cell_type": "code",
   "execution_count": 40,
   "metadata": {},
   "outputs": [
    {
     "name": "stdout",
     "output_type": "stream",
     "text": [
      "X\n",
      "The number of  A  is 383\n",
      "The number of  B  is 293\n",
      "The number of  C  is 279\n",
      "The number of  D  is 45\n"
     ]
    }
   ],
   "source": [
    "print('X')\n",
    "print(\"The number of \", X_values[0], ' is', np.sum(ZX,axis=0)[0])\n",
    "print(\"The number of \", X_values[1], ' is', np.sum(ZX,axis=0)[1])\n",
    "print(\"The number of \", X_values[2], ' is', np.sum(ZX,axis=0)[2])\n",
    "print(\"The number of \", X_values[3], ' is', np.sum(ZX,axis=0)[3])"
   ]
  },
  {
   "cell_type": "code",
   "execution_count": 37,
   "metadata": {
    "ExecuteTime": {
     "end_time": "2018-01-15T02:43:44.845193Z",
     "start_time": "2018-01-15T02:43:44.785035Z"
    }
   },
   "outputs": [
    {
     "data": {
      "text/plain": [
       "array(['a', 'b', 'c', 'd', 'e'], dtype=object)"
      ]
     },
     "execution_count": 37,
     "metadata": {},
     "output_type": "execute_result"
    }
   ],
   "source": [
    "Y_values"
   ]
  },
  {
   "cell_type": "code",
   "execution_count": 41,
   "metadata": {
    "ExecuteTime": {
     "end_time": "2018-01-15T02:43:44.862239Z",
     "start_time": "2018-01-15T02:43:44.847199Z"
    }
   },
   "outputs": [
    {
     "name": "stdout",
     "output_type": "stream",
     "text": [
      "Y\n",
      "The number of  a  is 312\n",
      "The number of  b  is 148\n",
      "The number of  c  is 349\n",
      "The number of  d  is 132\n",
      "The number of  e  is 59\n"
     ]
    }
   ],
   "source": [
    "print('Y')\n",
    "print(\"The number of \", Y_values[0], ' is', np.sum(ZY,axis=0)[0])\n",
    "print(\"The number of \", Y_values[1], ' is', np.sum(ZY,axis=0)[1])\n",
    "print(\"The number of \", Y_values[2], ' is', np.sum(ZY,axis=0)[2])\n",
    "print(\"The number of \", Y_values[3], ' is', np.sum(ZY,axis=0)[3])\n",
    "print(\"The number of \", Y_values[4], ' is', np.sum(ZY,axis=0)[4])"
   ]
  },
  {
   "cell_type": "markdown",
   "metadata": {
    "ExecuteTime": {
     "end_time": "2018-01-09T18:41:32.233141Z",
     "start_time": "2018-01-09T18:41:32.228141Z"
    }
   },
   "source": [
    "<div class=\"alert alert-block alert-info\"> Problem 3.3</div>\n",
    "Compute the empirical (sample) probabilities of the  values of `X` and `Y`.\n",
    "$$\n",
    "    \\mu^X_d = \\frac{1}{N} \\sum_i Z^X_{i,k}\n",
    "$$\n",
    "and similarly for $\\mu^Y_k$\n",
    "\n",
    "Store the results on variables `muX` and `muY`"
   ]
  },
  {
   "cell_type": "code",
   "execution_count": 47,
   "metadata": {
    "collapsed": true
   },
   "outputs": [],
   "source": [
    "muX = np.sum(ZX,axis=0)/ZX.shape[0]\n",
    "# muX=ZX.mean(axis=0)"
   ]
  },
  {
   "cell_type": "code",
   "execution_count": 48,
   "metadata": {
    "collapsed": true
   },
   "outputs": [],
   "source": [
    "muY = np.sum(ZY,axis=0)/ZY.shape[0]"
   ]
  },
  {
   "cell_type": "code",
   "execution_count": 49,
   "metadata": {},
   "outputs": [
    {
     "data": {
      "text/plain": [
       "array([ 0.383,  0.293,  0.279,  0.045])"
      ]
     },
     "execution_count": 49,
     "metadata": {},
     "output_type": "execute_result"
    }
   ],
   "source": [
    "muX"
   ]
  },
  {
   "cell_type": "code",
   "execution_count": 50,
   "metadata": {},
   "outputs": [
    {
     "data": {
      "text/plain": [
       "array([ 0.312,  0.148,  0.349,  0.132,  0.059])"
      ]
     },
     "execution_count": 50,
     "metadata": {},
     "output_type": "execute_result"
    }
   ],
   "source": [
    "muY"
   ]
  },
  {
   "cell_type": "markdown",
   "metadata": {},
   "source": [
    "<div class=\"alert alert-block alert-info\"> Problem 3.4 </div>\n",
    "Compute the covariance matrix of `ZX` and `ZY` values defined as \n",
    "$$\n",
    "    \\sigma^{X}_{d,d'} = \\frac{1}{N}\\sum_i Z^X_{i,d}Z^X_{i,d'}- \\mu^X_d \\mu^X_{d'}\n",
    "$$\n",
    "and similarly for $\\sigma^Y_{k,k'}$"
   ]
  },
  {
   "cell_type": "code",
   "execution_count": 54,
   "metadata": {
    "ExecuteTime": {
     "end_time": "2018-01-15T02:43:44.898336Z",
     "start_time": "2018-01-15T02:43:44.881290Z"
    }
   },
   "outputs": [
    {
     "name": "stdout",
     "output_type": "stream",
     "text": [
      "sigma.shape (4, 4)\n",
      "[[ 0.236311 -0.112219 -0.106857 -0.017235]\n",
      " [-0.112219  0.207151 -0.081747 -0.013185]\n",
      " [-0.106857 -0.081747  0.201159 -0.012555]\n",
      " [-0.017235 -0.013185 -0.012555  0.042975]]\n"
     ]
    }
   ],
   "source": [
    "sigmaX = np.mean(ZX[:, :, np.newaxis] * ZX[:, np.newaxis, :], axis=0) - muX[:, np.newaxis] * muX[np.newaxis, :]\n",
    "print(\"sigma.shape\", sigmaX.shape)\n",
    "print(sigmaX)"
   ]
  },
  {
   "cell_type": "code",
   "execution_count": 55,
   "metadata": {
    "ExecuteTime": {
     "end_time": "2018-01-15T02:43:45.039711Z",
     "start_time": "2018-01-15T02:43:44.902347Z"
    }
   },
   "outputs": [
    {
     "name": "stdout",
     "output_type": "stream",
     "text": [
      "sigma.shape (5, 5)\n",
      "[[ 0.214656 -0.046176 -0.108888 -0.041184 -0.018408]\n",
      " [-0.046176  0.126096 -0.051652 -0.019536 -0.008732]\n",
      " [-0.108888 -0.051652  0.227199 -0.046068 -0.020591]\n",
      " [-0.041184 -0.019536 -0.046068  0.114576 -0.007788]\n",
      " [-0.018408 -0.008732 -0.020591 -0.007788  0.055519]]\n"
     ]
    }
   ],
   "source": [
    "sigmaY = np.mean(ZY[:, :, np.newaxis] * ZY[:, np.newaxis, :], axis=0) - muY[:, np.newaxis] * muY[np.newaxis, :]\n",
    "print(\"sigma.shape\", sigmaY.shape)\n",
    "print(sigmaY)"
   ]
  },
  {
   "cell_type": "markdown",
   "metadata": {},
   "source": [
    "<div class=\"alert alert-block alert-info\"> Problem 3.5 </div>\n",
    "Compute the convariance matrix between `ZX` and `ZY` values defined as\n",
    "$$\n",
    "    \\sigma^{Y,X}_{k,d} = \\frac{1}{N}\\sum_i Z^Y_{i,k}Z^X_{i,d}- \\mu^Y_k\\mu^X_d \n",
    "$$"
   ]
  },
  {
   "cell_type": "code",
   "execution_count": 57,
   "metadata": {
    "ExecuteTime": {
     "end_time": "2018-01-15T02:43:45.062778Z",
     "start_time": "2018-01-15T02:43:45.041716Z"
    }
   },
   "outputs": [
    {
     "name": "stdout",
     "output_type": "stream",
     "text": [
      "sigma.shape (5, 4)\n",
      "[[-0.073496  0.082584 -0.037048  0.02796 ]\n",
      " [-0.016684  0.006636  0.014708 -0.00466 ]\n",
      " [ 0.119333 -0.062257 -0.041371 -0.015705]\n",
      " [-0.006556 -0.009676  0.021172 -0.00494 ]\n",
      " [-0.022597 -0.017287  0.042539 -0.002655]]\n"
     ]
    }
   ],
   "source": [
    "sigmaXY = np.mean(ZY[:, :, np.newaxis] * ZX[:, np.newaxis, :], axis=0) - muY[:, np.newaxis] * muX[np.newaxis, :]\n",
    "print(\"sigma.shape\", sigmaXY.shape)\n",
    "print(sigmaXY)"
   ]
  },
  {
   "cell_type": "markdown",
   "metadata": {
    "collapsed": true
   },
   "source": [
    "### Exponential weighted covariance"
   ]
  },
  {
   "cell_type": "markdown",
   "metadata": {
    "ExecuteTime": {
     "end_time": "2018-01-10T10:22:23.229504Z",
     "start_time": "2018-01-10T10:22:23.224493Z"
    }
   },
   "source": [
    "Some times, we want to give more weight so some observations $i$  others.\n",
    "\n",
    "For example, We could interpret the sample index $i$, as time, and we want to weight more strongly observations close to the present more \n",
    "strongly than ones far in the pass."
   ]
  },
  {
   "cell_type": "markdown",
   "metadata": {
    "ExecuteTime": {
     "end_time": "2018-01-10T10:26:19.566016Z",
     "start_time": "2018-01-10T10:26:19.561003Z"
    }
   },
   "source": [
    "<div class=\"alert alert-block alert-info\"> Problem 4.1 </div>\n",
    "Generate an array $W$ of shape $(N,)$ such that\n",
    "$$\n",
    "    W_i =\\frac{ e^{-\\lambda i}}{\\sum_{j} e^{-\\lambda j}}\n",
    "$$\n",
    "with $\\lambda = 4/N$\n",
    "\n",
    "Verify that \n",
    "$$\n",
    "     \\sum_i W_i = 1\n",
    "$$\n",
    "[Hints]\n",
    "* Try not write a python for loop (too slow). \n",
    "* It is probably easier to break the implementation into  two or three intermediate steps.\n",
    "* The function [`numpy.arange`](https://docs.scipy.org/doc/numpy-1.13.0/reference/generated/numpy.arange.html) will probably be useful.\n",
    "* `lambda` is a reserved word in python."
   ]
  },
  {
   "cell_type": "code",
   "execution_count": 89,
   "metadata": {
    "ExecuteTime": {
     "end_time": "2018-01-15T02:43:45.082826Z",
     "start_time": "2018-01-15T02:43:45.066797Z"
    },
    "collapsed": true
   },
   "outputs": [],
   "source": [
    "N = ZX.shape[0]\n",
    "import math"
   ]
  },
  {
   "cell_type": "code",
   "execution_count": 86,
   "metadata": {
    "collapsed": true
   },
   "outputs": [],
   "source": [
    "array1 = np.arange(0,1000)"
   ]
  },
  {
   "cell_type": "code",
   "execution_count": 247,
   "metadata": {
    "collapsed": true
   },
   "outputs": [],
   "source": [
    "w = np.exp(-4/N * array1)"
   ]
  },
  {
   "cell_type": "code",
   "execution_count": 248,
   "metadata": {
    "collapsed": true
   },
   "outputs": [],
   "source": [
    "d = np.sum(w)"
   ]
  },
  {
   "cell_type": "code",
   "execution_count": 249,
   "metadata": {
    "collapsed": true
   },
   "outputs": [],
   "source": [
    "wi = w/d"
   ]
  },
  {
   "cell_type": "code",
   "execution_count": 250,
   "metadata": {
    "collapsed": true
   },
   "outputs": [],
   "source": [
    "total = np.sum(wi)"
   ]
  },
  {
   "cell_type": "code",
   "execution_count": 251,
   "metadata": {},
   "outputs": [
    {
     "data": {
      "text/plain": [
       "1.0"
      ]
     },
     "execution_count": 251,
     "metadata": {},
     "output_type": "execute_result"
    }
   ],
   "source": [
    "total"
   ]
  },
  {
   "cell_type": "markdown",
   "metadata": {},
   "source": [
    "<div class=\"alert alert-block alert-info\"> Problem 4.2 </div>\n",
    "Compute the $X$ and $Y$ weighted means defined as\n",
    "$$\n",
    "    \\mu^X_{W,d} = \\sum_i W_i Z^X_{i,d}\n",
    "$$\n",
    "and similarly for $Y$"
   ]
  },
  {
   "cell_type": "code",
   "execution_count": 113,
   "metadata": {},
   "outputs": [
    {
     "data": {
      "text/plain": [
       "(1000, 4)"
      ]
     },
     "execution_count": 113,
     "metadata": {},
     "output_type": "execute_result"
    }
   ],
   "source": [
    "ZX.shape"
   ]
  },
  {
   "cell_type": "code",
   "execution_count": 232,
   "metadata": {},
   "outputs": [
    {
     "data": {
      "text/plain": [
       "(1000,)"
      ]
     },
     "execution_count": 232,
     "metadata": {},
     "output_type": "execute_result"
    }
   ],
   "source": [
    "wi.shape"
   ]
  },
  {
   "cell_type": "code",
   "execution_count": 253,
   "metadata": {
    "ExecuteTime": {
     "end_time": "2018-01-15T02:43:45.267318Z",
     "start_time": "2018-01-15T02:43:45.087840Z"
    },
    "collapsed": true
   },
   "outputs": [],
   "source": [
    "muX_2 = np.sum(wi[:,np.newaxis]*ZX, axis=0)"
   ]
  },
  {
   "cell_type": "code",
   "execution_count": 254,
   "metadata": {},
   "outputs": [
    {
     "data": {
      "text/plain": [
       "array([ 0.40408487,  0.27767638,  0.26826226,  0.04997649])"
      ]
     },
     "execution_count": 254,
     "metadata": {},
     "output_type": "execute_result"
    }
   ],
   "source": [
    "muX_2"
   ]
  },
  {
   "cell_type": "code",
   "execution_count": 255,
   "metadata": {
    "ExecuteTime": {
     "end_time": "2018-01-15T02:43:45.407690Z",
     "start_time": "2018-01-15T02:43:45.271328Z"
    },
    "collapsed": true
   },
   "outputs": [],
   "source": [
    "muY_2 = np.sum(wi[:,np.newaxis]*ZY, axis = 0)"
   ]
  },
  {
   "cell_type": "code",
   "execution_count": 256,
   "metadata": {},
   "outputs": [
    {
     "data": {
      "text/plain": [
       "array([ 0.29907652,  0.14968494,  0.35837697,  0.13982238,  0.0530392 ])"
      ]
     },
     "execution_count": 256,
     "metadata": {},
     "output_type": "execute_result"
    }
   ],
   "source": [
    "muY_2"
   ]
  },
  {
   "cell_type": "markdown",
   "metadata": {},
   "source": [
    "<div class=\"alert alert-block alert-info\"> Problem 4.3 </div>\n",
    "Compute the exponentially weighted  covariance matrix defined as\n",
    "$$\n",
    "    \\sigma^{Y,X}_{W,\\,k,d} = \\sum_i W_i (Z^Y_{i,k} - \\mu^Y_{W,k})(Z^X_{i,k} - \\mu^X_{W,k})\n",
    "$$"
   ]
  },
  {
   "cell_type": "code",
   "execution_count": 257,
   "metadata": {
    "collapsed": true
   },
   "outputs": [],
   "source": [
    "diff_Y = ZY - muY_2\n",
    "diff_X = ZX - muX_2"
   ]
  },
  {
   "cell_type": "code",
   "execution_count": 124,
   "metadata": {},
   "outputs": [
    {
     "data": {
      "text/plain": [
       "(1, 5)"
      ]
     },
     "execution_count": 124,
     "metadata": {},
     "output_type": "execute_result"
    }
   ],
   "source": [
    "muY_2.shape"
   ]
  },
  {
   "cell_type": "code",
   "execution_count": 127,
   "metadata": {},
   "outputs": [
    {
     "data": {
      "text/plain": [
       "(1000, 5)"
      ]
     },
     "execution_count": 127,
     "metadata": {},
     "output_type": "execute_result"
    }
   ],
   "source": [
    "ZY.shape"
   ]
  },
  {
   "cell_type": "code",
   "execution_count": 131,
   "metadata": {},
   "outputs": [
    {
     "data": {
      "text/plain": [
       "(1000, 5)"
      ]
     },
     "execution_count": 131,
     "metadata": {},
     "output_type": "execute_result"
    }
   ],
   "source": [
    " (ZY- muY_2).shape"
   ]
  },
  {
   "cell_type": "code",
   "execution_count": 132,
   "metadata": {},
   "outputs": [
    {
     "data": {
      "text/plain": [
       "(1000, 4)"
      ]
     },
     "execution_count": 132,
     "metadata": {},
     "output_type": "execute_result"
    }
   ],
   "source": [
    "(ZX- muX_2).shape"
   ]
  },
  {
   "cell_type": "code",
   "execution_count": 258,
   "metadata": {
    "ExecuteTime": {
     "end_time": "2018-01-15T02:43:45.567120Z",
     "start_time": "2018-01-15T02:43:45.410699Z"
    },
    "collapsed": true
   },
   "outputs": [],
   "source": [
    "expw_cov = np.sum(wi[:, np.newaxis, np.newaxis] * diff_Y[:, :, np.newaxis] * diff_X[:, np.newaxis, :], axis=0)"
   ]
  },
  {
   "cell_type": "code",
   "execution_count": 259,
   "metadata": {},
   "outputs": [
    {
     "data": {
      "text/plain": [
       "array([[-0.07130318,  0.08313933, -0.04055302,  0.02871686],\n",
       "       [-0.02546297,  0.00412859,  0.02262073, -0.00128635],\n",
       "       [ 0.13363749, -0.06965806, -0.04606901, -0.01791042],\n",
       "       [-0.01543901, -0.00288213,  0.02519051, -0.00686938],\n",
       "       [-0.02143234, -0.01472773,  0.03881078, -0.00265071]])"
      ]
     },
     "execution_count": 259,
     "metadata": {},
     "output_type": "execute_result"
    }
   ],
   "source": [
    "expw_cov "
   ]
  },
  {
   "cell_type": "markdown",
   "metadata": {},
   "source": [
    "## Analyzing MNIST with Numpy"
   ]
  },
  {
   "cell_type": "markdown",
   "metadata": {},
   "source": [
    "<div class=\"alert alert-block alert-info\"> Problem 5.0 </div>\n",
    "Got to MNIST dataset's [web site](http://yann.lecun.com/exdb/mnist/)'.\n",
    "\n",
    "Download the floowing four files, and save them with those names in the raw data directory [raw/MINST](../../raw/MNIST)\n",
    "* `train-images-idx3-ubyte.gz`:  training set images\n",
    "* `train-labels-idx1-ubyte.gz`:  training set labels\n",
    "* `t10k-images-idx3-ubyte.gz`:   test set images\n",
    "* `t10k-labels-idx1-ubyte.gz`:   test set labels\n",
    "\n",
    "Make sure not the decompress, or modify the files in any way.\n"
   ]
  },
  {
   "cell_type": "markdown",
   "metadata": {},
   "source": [
    "<div class=\"alert alert-block alert-info\"> Problem 5.1 </div>\n",
    "Using `E54525_ML.mnist.read_images` function read the train images in file `train-images-idx3-ubyte.gz` into a variable named\n",
    "`images`. \n",
    "\n",
    "images will be a tensor (`np.array` of floating point numbers) with three dimensions $N\\times R \\times C$ where\n",
    "1. $N$ is the number of images\n",
    "2. $R$ is the number of column pixels in an image\n",
    "3. $C$ is the number of row pixels.\n",
    "\n",
    "Show whe shape of the `images` variable"
   ]
  },
  {
   "cell_type": "code",
   "execution_count": 184,
   "metadata": {
    "collapsed": true
   },
   "outputs": [],
   "source": [
    "filename1 = 'train-images-idx3-ubyte.gz' "
   ]
  },
  {
   "cell_type": "code",
   "execution_count": 185,
   "metadata": {
    "ExecuteTime": {
     "end_time": "2018-01-15T02:43:48.089823Z",
     "start_time": "2018-01-15T02:43:45.570121Z"
    },
    "collapsed": true
   },
   "outputs": [],
   "source": [
    "images = mnist.read_images(raw_data_dir+\"/\"+filename1)"
   ]
  },
  {
   "cell_type": "code",
   "execution_count": 187,
   "metadata": {},
   "outputs": [
    {
     "data": {
      "text/plain": [
       "(60000, 28, 28)"
      ]
     },
     "execution_count": 187,
     "metadata": {},
     "output_type": "execute_result"
    }
   ],
   "source": [
    "images.shape"
   ]
  },
  {
   "cell_type": "code",
   "execution_count": 281,
   "metadata": {},
   "outputs": [
    {
     "name": "stdout",
     "output_type": "stream",
     "text": [
      "60000 28 28\n"
     ]
    }
   ],
   "source": [
    "N = np.shape(images)[0]\n",
    "R = np.shape(images)[1]\n",
    "C = np.shape(images)[2]\n",
    "print(N, R, C)"
   ]
  },
  {
   "cell_type": "markdown",
   "metadata": {},
   "source": [
    "<div class=\"alert alert-block alert-info\"> Problem 5.2 </div>\n",
    "Read the labels from file `train-labels-idx1-ubyte.gz`, save them in a variable named labels\n",
    "What is the shape of  label's variable?"
   ]
  },
  {
   "cell_type": "code",
   "execution_count": 189,
   "metadata": {
    "ExecuteTime": {
     "end_time": "2018-01-15T02:43:48.455796Z",
     "start_time": "2018-01-15T02:43:48.176054Z"
    }
   },
   "outputs": [
    {
     "data": {
      "text/plain": [
       "(60000,)"
      ]
     },
     "execution_count": 189,
     "metadata": {},
     "output_type": "execute_result"
    }
   ],
   "source": [
    "filename2 = 'train-labels-idx1-ubyte.gz'\n",
    "labels = mnist.read_labels(raw_data_dir+\"/\"+filename2)\n",
    "labels.shape"
   ]
  },
  {
   "cell_type": "markdown",
   "metadata": {},
   "source": [
    "<div class=\"alert alert-block alert-info\"> Problem 5.3 </div>\n",
    "Use [`matplotlib.pyplot.imshow`](https://matplotlib.org/api/_as_gen/matplotlib.pyplot.imshow.html?highlight=matplotlib%20pyplot%20imshow#matplotlib.pyplot.imshow) to display the first three images on the MNIST dataset\n",
    "\n",
    "Se the plot title to each image to the corresponding label\n",
    "\n",
    "[HINT] set the color map to `gray` for best results"
   ]
  },
  {
   "cell_type": "code",
   "execution_count": 194,
   "metadata": {},
   "outputs": [
    {
     "data": {
      "text/plain": [
       "(60000, 28, 28)"
      ]
     },
     "execution_count": 194,
     "metadata": {},
     "output_type": "execute_result"
    }
   ],
   "source": [
    "images.shape"
   ]
  },
  {
   "cell_type": "code",
   "execution_count": 260,
   "metadata": {
    "ExecuteTime": {
     "end_time": "2018-01-15T02:43:49.134602Z",
     "start_time": "2018-01-15T02:43:48.458806Z"
    }
   },
   "outputs": [
    {
     "data": {
      "text/plain": [
       "<matplotlib.text.Text at 0x11fb253c8>"
      ]
     },
     "execution_count": 260,
     "metadata": {},
     "output_type": "execute_result"
    },
    {
     "data": {
      "image/png": "[encoded data removed]",
      "text/plain": [
       "<matplotlib.figure.Figure at 0x11ef51a58>"
      ]
     },
     "metadata": {},
     "output_type": "display_data"
    }
   ],
   "source": [
    "#matplotlib.pyplot.imshow(X, shape=None, hold=None, data=None, **kwargs)\n",
    "import matplotlib.pyplot as plt\n",
    "plt.imshow(images[0, :, :], cmap = 'gray')\n",
    "plt.title('First Image: 5')"
   ]
  },
  {
   "cell_type": "code",
   "execution_count": 262,
   "metadata": {
    "ExecuteTime": {
     "end_time": "2018-01-15T02:43:49.646964Z",
     "start_time": "2018-01-15T02:43:49.136607Z"
    }
   },
   "outputs": [
    {
     "data": {
      "text/plain": [
       "<matplotlib.text.Text at 0x1205cc2e8>"
      ]
     },
     "execution_count": 262,
     "metadata": {},
     "output_type": "execute_result"
    },
    {
     "data": {
      "image/png": "[encoded data removed]",
      "text/plain": [
       "<matplotlib.figure.Figure at 0x1206297b8>"
      ]
     },
     "metadata": {},
     "output_type": "display_data"
    }
   ],
   "source": [
    "plt.imshow(images[1, :, :], cmap = 'gray')\n",
    "plt.title('Secend Image: 0')"
   ]
  },
  {
   "cell_type": "code",
   "execution_count": 261,
   "metadata": {
    "ExecuteTime": {
     "end_time": "2018-01-15T02:43:50.071093Z",
     "start_time": "2018-01-15T02:43:49.648970Z"
    }
   },
   "outputs": [
    {
     "data": {
      "text/plain": [
       "<matplotlib.text.Text at 0x11fbbcb70>"
      ]
     },
     "execution_count": 261,
     "metadata": {},
     "output_type": "execute_result"
    },
    {
     "data": {
      "image/png": "[encoded data removed]",
      "text/plain": [
       "<matplotlib.figure.Figure at 0x11f98edd8>"
      ]
     },
     "metadata": {},
     "output_type": "display_data"
    }
   ],
   "source": [
    "plt.imshow(images[2, :, :], cmap = 'gray')\n",
    "plt.title('Third Image: 4')"
   ]
  },
  {
   "cell_type": "markdown",
   "metadata": {},
   "source": [
    "<div class=\"alert alert-block alert-info\"> Problem 5.3 </div>\n",
    "Compute the average image (averaged over all the samples).\n",
    "use `imshow` to plot the result.\n",
    "\n",
    "[HINT] this is just averaging over the first axis of the images array"
   ]
  },
  {
   "cell_type": "code",
   "execution_count": 263,
   "metadata": {
    "ExecuteTime": {
     "end_time": "2018-01-15T02:43:50.633590Z",
     "start_time": "2018-01-15T02:43:50.072095Z"
    },
    "scrolled": true
   },
   "outputs": [
    {
     "data": {
      "text/plain": [
       "<matplotlib.text.Text at 0x120807be0>"
      ]
     },
     "execution_count": 263,
     "metadata": {},
     "output_type": "execute_result"
    },
    {
     "data": {
      "image/png": "[encoded data removed]",
      "text/plain": [
       "<matplotlib.figure.Figure at 0x12075f6d8>"
      ]
     },
     "metadata": {},
     "output_type": "display_data"
    }
   ],
   "source": [
    "images_avg = np.mean(images, axis = 0)\n",
    "plt.imshow(images_avg, cmap = 'gray')\n",
    "plt.title(\"Average Image\")"
   ]
  },
  {
   "cell_type": "code",
   "execution_count": 221,
   "metadata": {
    "ExecuteTime": {
     "end_time": "2018-01-17T16:09:33.832469Z",
     "start_time": "2018-01-17T16:09:33.818041Z"
    },
    "collapsed": true
   },
   "outputs": [],
   "source": [
    "def one_hot_encode(labels):\n",
    "    N=len(labels)\n",
    "    K=labels.max()+1\n",
    "    Z=np.zeros((len(labels),K))\n",
    "    Z[np.arange(N),labels]=1\n",
    "    return Z"
   ]
  },
  {
   "cell_type": "code",
   "execution_count": 277,
   "metadata": {},
   "outputs": [
    {
     "data": {
      "text/plain": [
       "array([5, 0, 4, ..., 5, 6, 8])"
      ]
     },
     "execution_count": 277,
     "metadata": {},
     "output_type": "execute_result"
    }
   ],
   "source": [
    "labels"
   ]
  },
  {
   "cell_type": "markdown",
   "metadata": {},
   "source": [
    "<div class=\"alert alert-block alert-info\"> Problem 5.4 </div>\n",
    "Use the function `one_hot_encode` defined above to create a variable `Z` with the one hot encoding of the labels.\n",
    "\n",
    "Show the shape of `Z`"
   ]
  },
  {
   "cell_type": "code",
   "execution_count": 224,
   "metadata": {
    "ExecuteTime": {
     "end_time": "2018-01-15T02:43:50.785769Z",
     "start_time": "2018-01-15T02:43:50.649639Z"
    },
    "collapsed": true
   },
   "outputs": [],
   "source": [
    "Z = one_hot_encode(labels)"
   ]
  },
  {
   "cell_type": "code",
   "execution_count": 225,
   "metadata": {},
   "outputs": [
    {
     "data": {
      "text/plain": [
       "(60000, 10)"
      ]
     },
     "execution_count": 225,
     "metadata": {},
     "output_type": "execute_result"
    }
   ],
   "source": [
    "Z.shape"
   ]
  },
  {
   "cell_type": "code",
   "execution_count": 275,
   "metadata": {},
   "outputs": [
    {
     "data": {
      "text/plain": [
       "array([[ 0.,  0.,  0., ...,  0.,  0.,  0.],\n",
       "       [ 1.,  0.,  0., ...,  0.,  0.,  0.],\n",
       "       [ 0.,  0.,  0., ...,  0.,  0.,  0.],\n",
       "       ..., \n",
       "       [ 0.,  0.,  0., ...,  0.,  0.,  0.],\n",
       "       [ 0.,  0.,  0., ...,  0.,  0.,  0.],\n",
       "       [ 0.,  0.,  0., ...,  0.,  1.,  0.]])"
      ]
     },
     "execution_count": 275,
     "metadata": {},
     "output_type": "execute_result"
    }
   ],
   "source": [
    "Z"
   ]
  },
  {
   "cell_type": "markdown",
   "metadata": {
    "ExecuteTime": {
     "end_time": "2018-01-14T19:55:30.710143Z",
     "start_time": "2018-01-14T19:55:30.705129Z"
    }
   },
   "source": [
    "<div class=\"alert alert-block alert-info\"> Problem 5.5 </div>\n",
    "Create the rank four tensor\n",
    "$$\n",
    "T_{i,k,r,c} = Z_{i,k}  \\textrm{images}_{i,r,c}\n",
    "$$\n"
   ]
  },
  {
   "cell_type": "code",
   "execution_count": 230,
   "metadata": {},
   "outputs": [
    {
     "data": {
      "text/plain": [
       "(60000, 28, 28)"
      ]
     },
     "execution_count": 230,
     "metadata": {},
     "output_type": "execute_result"
    }
   ],
   "source": [
    "images.shape"
   ]
  },
  {
   "cell_type": "code",
   "execution_count": 265,
   "metadata": {
    "ExecuteTime": {
     "end_time": "2018-01-15T02:43:56.812860Z",
     "start_time": "2018-01-15T02:43:50.787775Z"
    }
   },
   "outputs": [
    {
     "data": {
      "text/plain": [
       "(60000, 10, 28, 28)"
      ]
     },
     "execution_count": 265,
     "metadata": {},
     "output_type": "execute_result"
    }
   ],
   "source": [
    "T = Z[:, :, np.newaxis, np.newaxis] * images[:, np.newaxis, :, :]\n",
    "T.shape"
   ]
  },
  {
   "cell_type": "markdown",
   "metadata": {},
   "source": [
    "<div class=\"alert alert-block alert-info\"> Problem 5.6 </div>\n",
    "Average $T$ over the sample index $i$, save to a variable named `average`"
   ]
  },
  {
   "cell_type": "code",
   "execution_count": 266,
   "metadata": {
    "ExecuteTime": {
     "end_time": "2018-01-15T02:43:57.700447Z",
     "start_time": "2018-01-15T02:43:56.814869Z"
    },
    "collapsed": true
   },
   "outputs": [],
   "source": [
    "average = np.mean(T, axis = 0)"
   ]
  },
  {
   "cell_type": "markdown",
   "metadata": {
    "ExecuteTime": {
     "end_time": "2018-01-14T19:59:54.793042Z",
     "start_time": "2018-01-14T19:59:54.787027Z"
    }
   },
   "source": [
    "<div class=\"alert alert-block alert-info\"> Problem 5.7</div>\n",
    "What does `average[0]` represent? \n",
    "\n",
    "and `average[5]`?"
   ]
  },
  {
   "cell_type": "code",
   "execution_count": 271,
   "metadata": {},
   "outputs": [
    {
     "data": {
      "text/plain": [
       "array([[  0.00000000e+00,   0.00000000e+00,   0.00000000e+00,\n",
       "          0.00000000e+00,   0.00000000e+00,   0.00000000e+00,\n",
       "          0.00000000e+00,   0.00000000e+00,   0.00000000e+00,\n",
       "          0.00000000e+00,   0.00000000e+00,   0.00000000e+00,\n",
       "          0.00000000e+00,   0.00000000e+00,   0.00000000e+00,\n",
       "          0.00000000e+00,   0.00000000e+00,   0.00000000e+00,\n",
       "          0.00000000e+00,   0.00000000e+00,   0.00000000e+00,\n",
       "          0.00000000e+00,   0.00000000e+00,   0.00000000e+00,\n",
       "          0.00000000e+00,   0.00000000e+00,   0.00000000e+00,\n",
       "          0.00000000e+00],\n",
       "       [  0.00000000e+00,   0.00000000e+00,   0.00000000e+00,\n",
       "          0.00000000e+00,   0.00000000e+00,   0.00000000e+00,\n",
       "          0.00000000e+00,   0.00000000e+00,   0.00000000e+00,\n",
       "          0.00000000e+00,   0.00000000e+00,   8.36601307e-06,\n",
       "          1.65359477e-05,   6.79738562e-06,   0.00000000e+00,\n",
       "          5.88235294e-06,   1.60784314e-05,   7.64705882e-06,\n",
       "          0.00000000e+00,   0.00000000e+00,   0.00000000e+00,\n",
       "          0.00000000e+00,   0.00000000e+00,   0.00000000e+00,\n",
       "          0.00000000e+00,   0.00000000e+00,   0.00000000e+00,\n",
       "          0.00000000e+00],\n",
       "       [  0.00000000e+00,   0.00000000e+00,   0.00000000e+00,\n",
       "          1.89542484e-06,   6.53594771e-07,   0.00000000e+00,\n",
       "          5.55555556e-06,   1.30718954e-05,   2.87581699e-06,\n",
       "          0.00000000e+00,   0.00000000e+00,   6.01307190e-06,\n",
       "          1.84313725e-05,   3.06535948e-05,   1.28104575e-05,\n",
       "          1.13071895e-05,   1.49673203e-05,   1.30718954e-06,\n",
       "          4.96732026e-06,   8.88888889e-06,   0.00000000e+00,\n",
       "          0.00000000e+00,   0.00000000e+00,   0.00000000e+00,\n",
       "          0.00000000e+00,   0.00000000e+00,   0.00000000e+00,\n",
       "          0.00000000e+00],\n",
       "       [  0.00000000e+00,   0.00000000e+00,   0.00000000e+00,\n",
       "          5.49019608e-06,   8.10457516e-06,   2.52941176e-05,\n",
       "          2.16339869e-05,   2.39869281e-05,   4.54248366e-05,\n",
       "          8.53594771e-05,   1.93660131e-04,   4.81568627e-04,\n",
       "          8.22483660e-04,   1.21679739e-03,   1.48490196e-03,\n",
       "          1.75973856e-03,   1.81797386e-03,   1.47686275e-03,\n",
       "          1.10254902e-03,   9.19215686e-04,   6.40522876e-04,\n",
       "          3.19346405e-04,   1.27777778e-04,   4.62091503e-05,\n",
       "          1.66666667e-05,   4.77124183e-06,   0.00000000e+00,\n",
       "          0.00000000e+00],\n",
       "       [  0.00000000e+00,   0.00000000e+00,   0.00000000e+00,\n",
       "          1.05228758e-05,   1.07189542e-05,   2.16339869e-05,\n",
       "          7.50980392e-05,   2.05620915e-04,   5.63790850e-04,\n",
       "          1.39372549e-03,   2.75457516e-03,   5.42888889e-03,\n",
       "          9.78915033e-03,   1.52891503e-02,   2.03337908e-02,\n",
       "          2.45735948e-02,   2.57250327e-02,   2.37336601e-02,\n",
       "          1.92416993e-02,   1.39724837e-02,   8.37620915e-03,\n",
       "          4.21202614e-03,   1.69281046e-03,   3.95228758e-04,\n",
       "          7.10457516e-05,   1.13071895e-05,   0.00000000e+00,\n",
       "          0.00000000e+00],\n",
       "       [  0.00000000e+00,   0.00000000e+00,   0.00000000e+00,\n",
       "          1.75163399e-05,   2.12418301e-05,   5.91503268e-05,\n",
       "          2.80653595e-04,   7.43529412e-04,   1.90490196e-03,\n",
       "          4.58124183e-03,   9.32150327e-03,   1.69521569e-02,\n",
       "          2.68617647e-02,   3.84630065e-02,   4.85551634e-02,\n",
       "          5.55886275e-02,   5.81649673e-02,   5.45216993e-02,\n",
       "          4.58588235e-02,   3.45916340e-02,   2.22220915e-02,\n",
       "          1.22145098e-02,   5.19117647e-03,   1.40143791e-03,\n",
       "          1.97973856e-04,   9.21568627e-06,   0.00000000e+00,\n",
       "          0.00000000e+00],\n",
       "       [  0.00000000e+00,   0.00000000e+00,   0.00000000e+00,\n",
       "          0.00000000e+00,   6.81045752e-05,   2.81241830e-04,\n",
       "          7.07516340e-04,   1.89869281e-03,   4.86810458e-03,\n",
       "          1.07056209e-02,   2.00040523e-02,   3.22552941e-02,\n",
       "          4.54530719e-02,   5.78447712e-02,   6.68960131e-02,\n",
       "          7.26618954e-02,   7.44655556e-02,   7.28635294e-02,\n",
       "          6.63709804e-02,   5.39717647e-02,   3.92729412e-02,\n",
       "          2.41362092e-02,   1.18675817e-02,   3.82633987e-03,\n",
       "          4.91830065e-04,   2.55555556e-05,   5.35947712e-06,\n",
       "          4.77124183e-06],\n",
       "       [  0.00000000e+00,   0.00000000e+00,   0.00000000e+00,\n",
       "          5.35947712e-06,   7.71895425e-05,   4.56601307e-04,\n",
       "          1.35248366e-03,   4.16339869e-03,   1.00155556e-02,\n",
       "          2.00224837e-02,   3.29963399e-02,   4.71026144e-02,\n",
       "          5.90698039e-02,   6.71401307e-02,   7.15604575e-02,\n",
       "          7.29160784e-02,   7.35166013e-02,   7.44654902e-02,\n",
       "          7.29973856e-02,   6.61356863e-02,   5.32637908e-02,\n",
       "          3.68715033e-02,   2.09079085e-02,   7.99823529e-03,\n",
       "          1.37777778e-03,   6.49673203e-05,   7.18954248e-07,\n",
       "          1.00653595e-05],\n",
       "       [  3.46405229e-06,   0.00000000e+00,   6.01307190e-06,\n",
       "          1.03921569e-05,   9.15032680e-05,   6.75294118e-04,\n",
       "          2.75784314e-03,   8.12614379e-03,   1.78222876e-02,\n",
       "          3.11411111e-02,   4.58560131e-02,   5.82678431e-02,\n",
       "          6.55550327e-02,   6.69663399e-02,   6.45915033e-02,\n",
       "          6.12165359e-02,   5.96986928e-02,   6.10990850e-02,\n",
       "          6.54841176e-02,   6.74881046e-02,   6.22230065e-02,\n",
       "          4.81796732e-02,   3.03792157e-02,   1.33773856e-02,\n",
       "          2.76549020e-03,   4.83660131e-05,   0.00000000e+00,\n",
       "          0.00000000e+00],\n",
       "       [  0.00000000e+00,   0.00000000e+00,   2.81045752e-06,\n",
       "          1.83660131e-05,   1.64248366e-04,   1.27366013e-03,\n",
       "          5.44947712e-03,   1.43873856e-02,   2.73916993e-02,\n",
       "          4.30203922e-02,   5.66422222e-02,   6.42521569e-02,\n",
       "          6.45483007e-02,   5.91198039e-02,   5.05722876e-02,\n",
       "          4.33822876e-02,   3.94335294e-02,   4.15816993e-02,\n",
       "          5.01734641e-02,   6.05469281e-02,   6.40305882e-02,\n",
       "          5.62850327e-02,   3.95522222e-02,   1.94203922e-02,\n",
       "          4.52790850e-03,   5.88235294e-05,   0.00000000e+00,\n",
       "          0.00000000e+00],\n",
       "       [  0.00000000e+00,   0.00000000e+00,   9.08496732e-06,\n",
       "          1.55555556e-05,   2.95555556e-04,   2.77209150e-03,\n",
       "          9.85673203e-03,   2.23040523e-02,   3.79676471e-02,\n",
       "          5.33707843e-02,   6.28457516e-02,   6.41452288e-02,\n",
       "          5.68265359e-02,   4.53135294e-02,   3.39292157e-02,\n",
       "          2.51992157e-02,   2.14301307e-02,   2.43650980e-02,\n",
       "          3.49958824e-02,   5.02584314e-02,   6.16743791e-02,\n",
       "          6.06179085e-02,   4.70597386e-02,   2.55060131e-02,\n",
       "          6.63797386e-03,   1.14313725e-04,   0.00000000e+00,\n",
       "          0.00000000e+00],\n",
       "       [  0.00000000e+00,   2.15686275e-06,   0.00000000e+00,\n",
       "          1.66013072e-05,   6.04379085e-04,   5.13045752e-03,\n",
       "          1.57760131e-02,   3.17058170e-02,   4.83972549e-02,\n",
       "          6.09775817e-02,   6.43554902e-02,   5.76018301e-02,\n",
       "          4.38069281e-02,   3.00995425e-02,   1.89213725e-02,\n",
       "          1.23688235e-02,   1.04660784e-02,   1.42300000e-02,\n",
       "          2.46873856e-02,   4.20858170e-02,   5.79305229e-02,\n",
       "          6.22407843e-02,   5.15705882e-02,   3.06230065e-02,\n",
       "          8.88431373e-03,   2.08104575e-04,   1.41830065e-05,\n",
       "          0.00000000e+00],\n",
       "       [  0.00000000e+00,   1.04575163e-06,   3.98692810e-06,\n",
       "          1.66666667e-05,   1.10352941e-03,   8.56660131e-03,\n",
       "          2.33520915e-02,   4.16156863e-02,   5.69606536e-02,\n",
       "          6.45488235e-02,   6.07442484e-02,   4.65719608e-02,\n",
       "          2.98103268e-02,   1.67525490e-02,   8.78993464e-03,\n",
       "          5.55372549e-03,   5.37130719e-03,   9.26647059e-03,\n",
       "          1.99230719e-02,   3.73867974e-02,   5.47011765e-02,\n",
       "          6.17886275e-02,   5.33405229e-02,   3.37492157e-02,\n",
       "          1.08743791e-02,   3.00849673e-04,   1.13071895e-05,\n",
       "          0.00000000e+00],\n",
       "       [  0.00000000e+00,   4.11764706e-06,   1.13725490e-05,\n",
       "          3.41176471e-05,   1.96803922e-03,   1.35279085e-02,\n",
       "          3.16899346e-02,   5.07464706e-02,   6.27409804e-02,\n",
       "          6.39144444e-02,   5.24301307e-02,   3.38235948e-02,\n",
       "          1.74176471e-02,   7.74372549e-03,   3.82307190e-03,\n",
       "          2.62594771e-03,   3.15960784e-03,   7.65117647e-03,\n",
       "          1.89655556e-02,   3.60259477e-02,   5.35498039e-02,\n",
       "          6.11564706e-02,   5.28729412e-02,   3.42490850e-02,\n",
       "          1.19277124e-02,   4.12810458e-04,   1.30718954e-06,\n",
       "          0.00000000e+00],\n",
       "       [  0.00000000e+00,   0.00000000e+00,   0.00000000e+00,\n",
       "          1.91503268e-05,   3.29209150e-03,   1.94469935e-02,\n",
       "          3.99139216e-02,   5.81914379e-02,   6.55515686e-02,\n",
       "          5.94099346e-02,   4.20918301e-02,   2.22839869e-02,\n",
       "          9.23483660e-03,   3.67183007e-03,   1.92267974e-03,\n",
       "          1.60196078e-03,   2.84823529e-03,   8.83849673e-03,\n",
       "          2.13347712e-02,   3.87192810e-02,   5.48086275e-02,\n",
       "          6.01530065e-02,   5.06252941e-02,   3.24496732e-02,\n",
       "          1.18583660e-02,   4.90000000e-04,   0.00000000e+00,\n",
       "          0.00000000e+00],\n",
       "       [  0.00000000e+00,   0.00000000e+00,   0.00000000e+00,\n",
       "          2.50980392e-05,   5.23209150e-03,   2.55398693e-02,\n",
       "          4.70077124e-02,   6.27185621e-02,   6.51473856e-02,\n",
       "          5.29275817e-02,   3.24261438e-02,   1.42376471e-02,\n",
       "          5.11104575e-03,   1.87032680e-03,   1.21470588e-03,\n",
       "          1.75130719e-03,   4.55660131e-03,   1.29867974e-02,\n",
       "          2.71551634e-02,   4.44156863e-02,   5.71136601e-02,\n",
       "          5.80311111e-02,   4.66928758e-02,   2.86390850e-02,\n",
       "          1.01840523e-02,   4.30588235e-04,   0.00000000e+00,\n",
       "          0.00000000e+00],\n",
       "       [  0.00000000e+00,   0.00000000e+00,   0.00000000e+00,\n",
       "          4.94117647e-05,   7.19941176e-03,   3.05832680e-02,\n",
       "          5.20575817e-02,   6.49886928e-02,   6.28633333e-02,\n",
       "          4.64297386e-02,   2.51998693e-02,   1.00218301e-02,\n",
       "          3.40339869e-03,   1.49575163e-03,   1.69588235e-03,\n",
       "          3.66196078e-03,   9.22228758e-03,   2.07558170e-02,\n",
       "          3.67306536e-02,   5.19227451e-02,   5.90724183e-02,\n",
       "          5.44167974e-02,   4.04835294e-02,   2.30130719e-02,\n",
       "          7.54405229e-03,   3.10065359e-04,   0.00000000e+00,\n",
       "          7.84313725e-07],\n",
       "       [  0.00000000e+00,   0.00000000e+00,   0.00000000e+00,\n",
       "          8.35294118e-05,   9.19836601e-03,   3.37100000e-02,\n",
       "          5.45069935e-02,   6.56949673e-02,   6.09429412e-02,\n",
       "          4.30645098e-02,   2.22104575e-02,   9.03503268e-03,\n",
       "          3.93627451e-03,   3.02006536e-03,   4.65836601e-03,\n",
       "          9.53405229e-03,   1.91239216e-02,   3.33396078e-02,\n",
       "          4.82992810e-02,   5.82005229e-02,   5.84549020e-02,\n",
       "          4.79669935e-02,   3.25054248e-02,   1.63066667e-02,\n",
       "          4.77797386e-03,   1.96601307e-04,   0.00000000e+00,\n",
       "          6.79738562e-06],\n",
       "       [  0.00000000e+00,   0.00000000e+00,   0.00000000e+00,\n",
       "          1.16601307e-04,   1.00121569e-02,   3.35099346e-02,\n",
       "          5.42460131e-02,   6.57694771e-02,   6.17816340e-02,\n",
       "          4.49038562e-02,   2.57254902e-02,   1.33068627e-02,\n",
       "          8.63718954e-03,   9.24666667e-03,   1.37028758e-02,\n",
       "          2.24830065e-02,   3.47367974e-02,   4.81758824e-02,\n",
       "          5.81890196e-02,   6.04914379e-02,   5.27798693e-02,\n",
       "          3.85102614e-02,   2.34149673e-02,   1.01920261e-02,\n",
       "          2.54758170e-03,   8.97385621e-05,   0.00000000e+00,\n",
       "          0.00000000e+00],\n",
       "       [  0.00000000e+00,   3.39869281e-06,   3.33333333e-06,\n",
       "          1.62745098e-04,   9.34215686e-03,   3.03745752e-02,\n",
       "          5.12893464e-02,   6.50452288e-02,   6.52506536e-02,\n",
       "          5.38021569e-02,   3.77437255e-02,   2.61726144e-02,\n",
       "          2.22824183e-02,   2.43620261e-02,   3.11950327e-02,\n",
       "          4.11324183e-02,   5.21644444e-02,   6.05537908e-02,\n",
       "          6.22464706e-02,   5.52248366e-02,   4.22400000e-02,\n",
       "          2.77684967e-02,   1.44675163e-02,   5.20267974e-03,\n",
       "          9.80653595e-04,   3.47712418e-05,   0.00000000e+00,\n",
       "          0.00000000e+00],\n",
       "       [  0.00000000e+00,   8.56209150e-06,   5.94771242e-06,\n",
       "          1.37124183e-04,   7.05594771e-03,   2.39738562e-02,\n",
       "          4.46025490e-02,   6.14792810e-02,   6.93401961e-02,\n",
       "          6.70414379e-02,   5.79942484e-02,   4.95627451e-02,\n",
       "          4.60223529e-02,   4.77575163e-02,   5.32905229e-02,\n",
       "          6.03518954e-02,   6.47588889e-02,   6.41092157e-02,\n",
       "          5.61430719e-02,   4.33615033e-02,   2.94069281e-02,\n",
       "          1.67052288e-02,   7.15026144e-03,   2.03960784e-03,\n",
       "          3.24183007e-04,   1.02614379e-05,   9.41176471e-06,\n",
       "          0.00000000e+00],\n",
       "       [  0.00000000e+00,   0.00000000e+00,   2.48366013e-06,\n",
       "          1.22483660e-04,   4.18732026e-03,   1.58484314e-02,\n",
       "          3.32733987e-02,   5.22033333e-02,   6.70115033e-02,\n",
       "          7.52356209e-02,   7.58914379e-02,   7.29035948e-02,\n",
       "          7.03504575e-02,   6.96890196e-02,   7.03955556e-02,\n",
       "          6.99101961e-02,   6.48524837e-02,   5.48343137e-02,\n",
       "          4.17383007e-02,   2.80838562e-02,   1.61891503e-02,\n",
       "          7.46764706e-03,   2.52483660e-03,   6.40196078e-04,\n",
       "          1.11764706e-04,   7.90849673e-06,   2.86928105e-05,\n",
       "          2.54901961e-06],\n",
       "       [  0.00000000e+00,   0.00000000e+00,   0.00000000e+00,\n",
       "          6.03921569e-05,   1.58529412e-03,   7.82169935e-03,\n",
       "          1.96256863e-02,   3.53019608e-02,   5.21577778e-02,\n",
       "          6.61855556e-02,   7.49061438e-02,   7.80456209e-02,\n",
       "          7.77021569e-02,   7.51745098e-02,   6.96349020e-02,\n",
       "          6.05384967e-02,   4.86015033e-02,   3.55089542e-02,\n",
       "          2.30681699e-02,   1.31193464e-02,   6.03000000e-03,\n",
       "          2.23875817e-03,   6.44183007e-04,   1.66013072e-04,\n",
       "          4.66013072e-05,   1.06535948e-05,   1.00653595e-05,\n",
       "          4.70588235e-06],\n",
       "       [  0.00000000e+00,   0.00000000e+00,   0.00000000e+00,\n",
       "          3.85620915e-06,   3.34444444e-04,   2.17111111e-03,\n",
       "          6.85019608e-03,   1.54963399e-02,   2.69671895e-02,\n",
       "          3.92340523e-02,   4.94402614e-02,   5.58066667e-02,\n",
       "          5.68014379e-02,   5.21986928e-02,   4.40011765e-02,\n",
       "          3.36363399e-02,   2.33986275e-02,   1.44728758e-02,\n",
       "          7.70679739e-03,   3.41209150e-03,   1.26555556e-03,\n",
       "          3.83529412e-04,   1.28431373e-04,   6.20915033e-05,\n",
       "          2.89542484e-05,   6.66666667e-06,   0.00000000e+00,\n",
       "          0.00000000e+00],\n",
       "       [  0.00000000e+00,   0.00000000e+00,   0.00000000e+00,\n",
       "          0.00000000e+00,   6.35294118e-05,   2.32222222e-04,\n",
       "          8.84771242e-04,   2.28516340e-03,   4.67215686e-03,\n",
       "          7.93830065e-03,   1.13015686e-02,   1.35775817e-02,\n",
       "          1.42888889e-02,   1.32135294e-02,   1.06674510e-02,\n",
       "          7.56843137e-03,   4.67398693e-03,   2.56470588e-03,\n",
       "          1.12869281e-03,   4.41633987e-04,   1.52614379e-04,\n",
       "          5.00653595e-05,   2.74509804e-05,   1.86928105e-05,\n",
       "          8.36601307e-06,   4.57516340e-06,   0.00000000e+00,\n",
       "          0.00000000e+00],\n",
       "       [  0.00000000e+00,   0.00000000e+00,   0.00000000e+00,\n",
       "          0.00000000e+00,   0.00000000e+00,   0.00000000e+00,\n",
       "          2.28758170e-06,   1.79738562e-05,   6.62091503e-05,\n",
       "          1.25751634e-04,   1.70000000e-04,   2.05294118e-04,\n",
       "          1.64640523e-04,   1.40326797e-04,   9.39215686e-05,\n",
       "          5.61437908e-05,   4.28758170e-05,   1.71895425e-05,\n",
       "          3.20261438e-06,   0.00000000e+00,   0.00000000e+00,\n",
       "          0.00000000e+00,   0.00000000e+00,   0.00000000e+00,\n",
       "          0.00000000e+00,   0.00000000e+00,   0.00000000e+00,\n",
       "          0.00000000e+00],\n",
       "       [  0.00000000e+00,   0.00000000e+00,   0.00000000e+00,\n",
       "          0.00000000e+00,   0.00000000e+00,   0.00000000e+00,\n",
       "          0.00000000e+00,   0.00000000e+00,   0.00000000e+00,\n",
       "          0.00000000e+00,   0.00000000e+00,   0.00000000e+00,\n",
       "          0.00000000e+00,   0.00000000e+00,   0.00000000e+00,\n",
       "          0.00000000e+00,   0.00000000e+00,   0.00000000e+00,\n",
       "          0.00000000e+00,   0.00000000e+00,   0.00000000e+00,\n",
       "          0.00000000e+00,   0.00000000e+00,   0.00000000e+00,\n",
       "          0.00000000e+00,   0.00000000e+00,   0.00000000e+00,\n",
       "          0.00000000e+00],\n",
       "       [  0.00000000e+00,   0.00000000e+00,   0.00000000e+00,\n",
       "          0.00000000e+00,   0.00000000e+00,   0.00000000e+00,\n",
       "          0.00000000e+00,   0.00000000e+00,   0.00000000e+00,\n",
       "          0.00000000e+00,   0.00000000e+00,   0.00000000e+00,\n",
       "          0.00000000e+00,   0.00000000e+00,   0.00000000e+00,\n",
       "          0.00000000e+00,   0.00000000e+00,   0.00000000e+00,\n",
       "          0.00000000e+00,   0.00000000e+00,   0.00000000e+00,\n",
       "          0.00000000e+00,   0.00000000e+00,   0.00000000e+00,\n",
       "          0.00000000e+00,   0.00000000e+00,   0.00000000e+00,\n",
       "          0.00000000e+00]])"
      ]
     },
     "execution_count": 271,
     "metadata": {},
     "output_type": "execute_result"
    }
   ],
   "source": [
    "# average[0] represents a more 'general' image of 0 using other images labeled as 0, i.e, the average of images with label 0\n",
    "average[0]"
   ]
  },
  {
   "cell_type": "code",
   "execution_count": null,
   "metadata": {
    "collapsed": true
   },
   "outputs": [],
   "source": [
    "# average[5] represents a more 'general' image of 5 using other images labeled as 5, i.e, the average of images with label 5\n",
    "average[5]"
   ]
  },
  {
   "cell_type": "markdown",
   "metadata": {
    "ExecuteTime": {
     "end_time": "2018-01-14T20:02:02.528638Z",
     "start_time": "2018-01-14T20:02:02.513011Z"
    }
   },
   "source": [
    "<div class=\"alert alert-block alert-info\"> Problem 5.8 </div>\n",
    "use `imshow` to plot `average[0]` and `average[5]`"
   ]
  },
  {
   "cell_type": "code",
   "execution_count": 273,
   "metadata": {
    "ExecuteTime": {
     "end_time": "2018-01-15T02:43:58.917685Z",
     "start_time": "2018-01-15T02:43:58.397302Z"
    }
   },
   "outputs": [
    {
     "data": {
      "text/plain": [
       "<matplotlib.image.AxesImage at 0x120ad9470>"
      ]
     },
     "execution_count": 273,
     "metadata": {},
     "output_type": "execute_result"
    },
    {
     "data": {
      "image/png": "[encoded data removed]",
      "text/plain": [
       "<matplotlib.figure.Figure at 0x1206319b0>"
      ]
     },
     "metadata": {},
     "output_type": "display_data"
    }
   ],
   "source": [
    "plt.imshow(average[0], cmap = 'gray')"
   ]
  },
  {
   "cell_type": "code",
   "execution_count": 274,
   "metadata": {},
   "outputs": [
    {
     "data": {
      "text/plain": [
       "<matplotlib.image.AxesImage at 0x120b3fc88>"
      ]
     },
     "execution_count": 274,
     "metadata": {},
     "output_type": "execute_result"
    },
    {
     "data": {
      "image/png": "[encoded data removed]",
      "text/plain": [
       "<matplotlib.figure.Figure at 0x120af6ef0>"
      ]
     },
     "metadata": {},
     "output_type": "display_data"
    }
   ],
   "source": [
    "plt.imshow(average[5], cmap = 'gray')"
   ]
  },
  {
   "cell_type": "code",
   "execution_count": null,
   "metadata": {
    "collapsed": true
   },
   "outputs": [],
   "source": []
  }
 ],
 "metadata": {
  "kernelspec": {
   "display_name": "Python 3",
   "language": "python",
   "name": "python3"
  },
  "language_info": {
   "codemirror_mode": {
    "name": "ipython",
    "version": 3
   },
   "file_extension": ".py",
   "mimetype": "text/x-python",
   "name": "python",
   "nbconvert_exporter": "python",
   "pygments_lexer": "ipython3",
   "version": "3.6.1"
  },
  "toc": {
   "nav_menu": {},
   "number_sections": true,
   "sideBar": true,
   "skip_h1_title": false,
   "toc_cell": false,
   "toc_position": {},
   "toc_section_display": "block",
   "toc_window_display": true
  }
 },
 "nbformat": 4,
 "nbformat_minor": 2
}
